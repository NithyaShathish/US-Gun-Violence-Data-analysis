{
 "cells": [
  {
   "cell_type": "markdown",
   "metadata": {},
   "source": [
    "# US GUN VIOLENCE DATA ANALYSIS"
   ]
  },
  {
   "cell_type": "code",
   "execution_count": 1,
   "metadata": {
    "_cell_guid": "b1076dfc-b9ad-4769-8c92-a6c4dae69d19",
    "_uuid": "8f2839f25d086af736a60e9eeb907d3b93b6e0e5"
   },
   "outputs": [],
   "source": [
    "from sklearn.cluster import AgglomerativeClustering\n",
    "from sklearn.cluster import KMeans\n",
    "from sklearn import metrics \n",
    "from scipy.spatial.distance import cdist \n",
    "import numpy as np \n",
    "import matplotlib.pyplot as plt  \n",
    "import seaborn as sns\n",
    "import pandas as pd\n",
    "import scipy.cluster.hierarchy as shc"
   ]
  },
  {
   "cell_type": "markdown",
   "metadata": {},
   "source": [
    "### Import the dataset"
   ]
  },
  {
   "cell_type": "code",
   "execution_count": 2,
   "metadata": {},
   "outputs": [
    {
     "data": {
      "text/html": [
       "<div>\n",
       "<style scoped>\n",
       "    .dataframe tbody tr th:only-of-type {\n",
       "        vertical-align: middle;\n",
       "    }\n",
       "\n",
       "    .dataframe tbody tr th {\n",
       "        vertical-align: top;\n",
       "    }\n",
       "\n",
       "    .dataframe thead th {\n",
       "        text-align: right;\n",
       "    }\n",
       "</style>\n",
       "<table border=\"1\" class=\"dataframe\">\n",
       "  <thead>\n",
       "    <tr style=\"text-align: right;\">\n",
       "      <th></th>\n",
       "      <th>incident_id</th>\n",
       "      <th>date</th>\n",
       "      <th>state</th>\n",
       "      <th>city_or_county</th>\n",
       "      <th>address</th>\n",
       "      <th>n_killed</th>\n",
       "      <th>n_injured</th>\n",
       "      <th>incident_url</th>\n",
       "      <th>source_url</th>\n",
       "      <th>incident_url_fields_missing</th>\n",
       "      <th>...</th>\n",
       "      <th>participant_age</th>\n",
       "      <th>participant_age_group</th>\n",
       "      <th>participant_gender</th>\n",
       "      <th>participant_name</th>\n",
       "      <th>participant_relationship</th>\n",
       "      <th>participant_status</th>\n",
       "      <th>participant_type</th>\n",
       "      <th>sources</th>\n",
       "      <th>state_house_district</th>\n",
       "      <th>state_senate_district</th>\n",
       "    </tr>\n",
       "  </thead>\n",
       "  <tbody>\n",
       "    <tr>\n",
       "      <td>0</td>\n",
       "      <td>461105</td>\n",
       "      <td>2013-01-01</td>\n",
       "      <td>Pennsylvania</td>\n",
       "      <td>Mckeesport</td>\n",
       "      <td>1506 Versailles Avenue and Coursin Street</td>\n",
       "      <td>0</td>\n",
       "      <td>4</td>\n",
       "      <td>http://www.gunviolencearchive.org/incident/461105</td>\n",
       "      <td>http://www.post-gazette.com/local/south/2013/0...</td>\n",
       "      <td>False</td>\n",
       "      <td>...</td>\n",
       "      <td>0::20</td>\n",
       "      <td>0::Adult 18+||1::Adult 18+||2::Adult 18+||3::A...</td>\n",
       "      <td>0::Male||1::Male||3::Male||4::Female</td>\n",
       "      <td>0::Julian Sims</td>\n",
       "      <td>NaN</td>\n",
       "      <td>0::Arrested||1::Injured||2::Injured||3::Injure...</td>\n",
       "      <td>0::Victim||1::Victim||2::Victim||3::Victim||4:...</td>\n",
       "      <td>http://pittsburgh.cbslocal.com/2013/01/01/4-pe...</td>\n",
       "      <td>NaN</td>\n",
       "      <td>NaN</td>\n",
       "    </tr>\n",
       "    <tr>\n",
       "      <td>1</td>\n",
       "      <td>460726</td>\n",
       "      <td>2013-01-01</td>\n",
       "      <td>California</td>\n",
       "      <td>Hawthorne</td>\n",
       "      <td>13500 block of Cerise Avenue</td>\n",
       "      <td>1</td>\n",
       "      <td>3</td>\n",
       "      <td>http://www.gunviolencearchive.org/incident/460726</td>\n",
       "      <td>http://www.dailybulletin.com/article/zz/201301...</td>\n",
       "      <td>False</td>\n",
       "      <td>...</td>\n",
       "      <td>0::20</td>\n",
       "      <td>0::Adult 18+||1::Adult 18+||2::Adult 18+||3::A...</td>\n",
       "      <td>0::Male</td>\n",
       "      <td>0::Bernard Gillis</td>\n",
       "      <td>NaN</td>\n",
       "      <td>0::Killed||1::Injured||2::Injured||3::Injured</td>\n",
       "      <td>0::Victim||1::Victim||2::Victim||3::Victim||4:...</td>\n",
       "      <td>http://losangeles.cbslocal.com/2013/01/01/man-...</td>\n",
       "      <td>62.0</td>\n",
       "      <td>35.0</td>\n",
       "    </tr>\n",
       "    <tr>\n",
       "      <td>2</td>\n",
       "      <td>478855</td>\n",
       "      <td>2013-01-01</td>\n",
       "      <td>Ohio</td>\n",
       "      <td>Lorain</td>\n",
       "      <td>1776 East 28th Street</td>\n",
       "      <td>1</td>\n",
       "      <td>3</td>\n",
       "      <td>http://www.gunviolencearchive.org/incident/478855</td>\n",
       "      <td>http://chronicle.northcoastnow.com/2013/02/14/...</td>\n",
       "      <td>False</td>\n",
       "      <td>...</td>\n",
       "      <td>0::25||1::31||2::33||3::34||4::33</td>\n",
       "      <td>0::Adult 18+||1::Adult 18+||2::Adult 18+||3::A...</td>\n",
       "      <td>0::Male||1::Male||2::Male||3::Male||4::Male</td>\n",
       "      <td>0::Damien Bell||1::Desmen Noble||2::Herman Sea...</td>\n",
       "      <td>NaN</td>\n",
       "      <td>0::Injured, Unharmed, Arrested||1::Unharmed, A...</td>\n",
       "      <td>0::Subject-Suspect||1::Subject-Suspect||2::Vic...</td>\n",
       "      <td>http://www.morningjournal.com/general-news/201...</td>\n",
       "      <td>56.0</td>\n",
       "      <td>13.0</td>\n",
       "    </tr>\n",
       "    <tr>\n",
       "      <td>3</td>\n",
       "      <td>478925</td>\n",
       "      <td>2013-01-05</td>\n",
       "      <td>Colorado</td>\n",
       "      <td>Aurora</td>\n",
       "      <td>16000 block of East Ithaca Place</td>\n",
       "      <td>4</td>\n",
       "      <td>0</td>\n",
       "      <td>http://www.gunviolencearchive.org/incident/478925</td>\n",
       "      <td>http://www.dailydemocrat.com/20130106/aurora-s...</td>\n",
       "      <td>False</td>\n",
       "      <td>...</td>\n",
       "      <td>0::29||1::33||2::56||3::33</td>\n",
       "      <td>0::Adult 18+||1::Adult 18+||2::Adult 18+||3::A...</td>\n",
       "      <td>0::Female||1::Male||2::Male||3::Male</td>\n",
       "      <td>0::Stacie Philbrook||1::Christopher Ratliffe||...</td>\n",
       "      <td>NaN</td>\n",
       "      <td>0::Killed||1::Killed||2::Killed||3::Killed</td>\n",
       "      <td>0::Victim||1::Victim||2::Victim||3::Subject-Su...</td>\n",
       "      <td>http://denver.cbslocal.com/2013/01/06/officer-...</td>\n",
       "      <td>40.0</td>\n",
       "      <td>28.0</td>\n",
       "    </tr>\n",
       "    <tr>\n",
       "      <td>4</td>\n",
       "      <td>478959</td>\n",
       "      <td>2013-01-07</td>\n",
       "      <td>North Carolina</td>\n",
       "      <td>Greensboro</td>\n",
       "      <td>307 Mourning Dove Terrace</td>\n",
       "      <td>2</td>\n",
       "      <td>2</td>\n",
       "      <td>http://www.gunviolencearchive.org/incident/478959</td>\n",
       "      <td>http://www.journalnow.com/news/local/article_d...</td>\n",
       "      <td>False</td>\n",
       "      <td>...</td>\n",
       "      <td>0::18||1::46||2::14||3::47</td>\n",
       "      <td>0::Adult 18+||1::Adult 18+||2::Teen 12-17||3::...</td>\n",
       "      <td>0::Female||1::Male||2::Male||3::Female</td>\n",
       "      <td>0::Danielle Imani Jameison||1::Maurice Eugene ...</td>\n",
       "      <td>3::Family</td>\n",
       "      <td>0::Injured||1::Injured||2::Killed||3::Killed</td>\n",
       "      <td>0::Victim||1::Victim||2::Victim||3::Subject-Su...</td>\n",
       "      <td>http://myfox8.com/2013/01/08/update-mother-sho...</td>\n",
       "      <td>62.0</td>\n",
       "      <td>27.0</td>\n",
       "    </tr>\n",
       "  </tbody>\n",
       "</table>\n",
       "<p>5 rows × 29 columns</p>\n",
       "</div>"
      ],
      "text/plain": [
       "   incident_id        date           state city_or_county  \\\n",
       "0       461105  2013-01-01    Pennsylvania     Mckeesport   \n",
       "1       460726  2013-01-01      California      Hawthorne   \n",
       "2       478855  2013-01-01            Ohio         Lorain   \n",
       "3       478925  2013-01-05        Colorado         Aurora   \n",
       "4       478959  2013-01-07  North Carolina     Greensboro   \n",
       "\n",
       "                                     address  n_killed  n_injured  \\\n",
       "0  1506 Versailles Avenue and Coursin Street         0          4   \n",
       "1               13500 block of Cerise Avenue         1          3   \n",
       "2                      1776 East 28th Street         1          3   \n",
       "3           16000 block of East Ithaca Place         4          0   \n",
       "4                  307 Mourning Dove Terrace         2          2   \n",
       "\n",
       "                                        incident_url  \\\n",
       "0  http://www.gunviolencearchive.org/incident/461105   \n",
       "1  http://www.gunviolencearchive.org/incident/460726   \n",
       "2  http://www.gunviolencearchive.org/incident/478855   \n",
       "3  http://www.gunviolencearchive.org/incident/478925   \n",
       "4  http://www.gunviolencearchive.org/incident/478959   \n",
       "\n",
       "                                          source_url  \\\n",
       "0  http://www.post-gazette.com/local/south/2013/0...   \n",
       "1  http://www.dailybulletin.com/article/zz/201301...   \n",
       "2  http://chronicle.northcoastnow.com/2013/02/14/...   \n",
       "3  http://www.dailydemocrat.com/20130106/aurora-s...   \n",
       "4  http://www.journalnow.com/news/local/article_d...   \n",
       "\n",
       "   incident_url_fields_missing  ...                    participant_age  \\\n",
       "0                        False  ...                              0::20   \n",
       "1                        False  ...                              0::20   \n",
       "2                        False  ...  0::25||1::31||2::33||3::34||4::33   \n",
       "3                        False  ...         0::29||1::33||2::56||3::33   \n",
       "4                        False  ...         0::18||1::46||2::14||3::47   \n",
       "\n",
       "                               participant_age_group  \\\n",
       "0  0::Adult 18+||1::Adult 18+||2::Adult 18+||3::A...   \n",
       "1  0::Adult 18+||1::Adult 18+||2::Adult 18+||3::A...   \n",
       "2  0::Adult 18+||1::Adult 18+||2::Adult 18+||3::A...   \n",
       "3  0::Adult 18+||1::Adult 18+||2::Adult 18+||3::A...   \n",
       "4  0::Adult 18+||1::Adult 18+||2::Teen 12-17||3::...   \n",
       "\n",
       "                            participant_gender  \\\n",
       "0         0::Male||1::Male||3::Male||4::Female   \n",
       "1                                      0::Male   \n",
       "2  0::Male||1::Male||2::Male||3::Male||4::Male   \n",
       "3         0::Female||1::Male||2::Male||3::Male   \n",
       "4       0::Female||1::Male||2::Male||3::Female   \n",
       "\n",
       "                                    participant_name  \\\n",
       "0                                     0::Julian Sims   \n",
       "1                                  0::Bernard Gillis   \n",
       "2  0::Damien Bell||1::Desmen Noble||2::Herman Sea...   \n",
       "3  0::Stacie Philbrook||1::Christopher Ratliffe||...   \n",
       "4  0::Danielle Imani Jameison||1::Maurice Eugene ...   \n",
       "\n",
       "   participant_relationship  \\\n",
       "0                       NaN   \n",
       "1                       NaN   \n",
       "2                       NaN   \n",
       "3                       NaN   \n",
       "4                 3::Family   \n",
       "\n",
       "                                  participant_status  \\\n",
       "0  0::Arrested||1::Injured||2::Injured||3::Injure...   \n",
       "1      0::Killed||1::Injured||2::Injured||3::Injured   \n",
       "2  0::Injured, Unharmed, Arrested||1::Unharmed, A...   \n",
       "3         0::Killed||1::Killed||2::Killed||3::Killed   \n",
       "4       0::Injured||1::Injured||2::Killed||3::Killed   \n",
       "\n",
       "                                    participant_type  \\\n",
       "0  0::Victim||1::Victim||2::Victim||3::Victim||4:...   \n",
       "1  0::Victim||1::Victim||2::Victim||3::Victim||4:...   \n",
       "2  0::Subject-Suspect||1::Subject-Suspect||2::Vic...   \n",
       "3  0::Victim||1::Victim||2::Victim||3::Subject-Su...   \n",
       "4  0::Victim||1::Victim||2::Victim||3::Subject-Su...   \n",
       "\n",
       "                                             sources state_house_district  \\\n",
       "0  http://pittsburgh.cbslocal.com/2013/01/01/4-pe...                  NaN   \n",
       "1  http://losangeles.cbslocal.com/2013/01/01/man-...                 62.0   \n",
       "2  http://www.morningjournal.com/general-news/201...                 56.0   \n",
       "3  http://denver.cbslocal.com/2013/01/06/officer-...                 40.0   \n",
       "4  http://myfox8.com/2013/01/08/update-mother-sho...                 62.0   \n",
       "\n",
       "  state_senate_district  \n",
       "0                   NaN  \n",
       "1                  35.0  \n",
       "2                  13.0  \n",
       "3                  28.0  \n",
       "4                  27.0  \n",
       "\n",
       "[5 rows x 29 columns]"
      ]
     },
     "execution_count": 2,
     "metadata": {},
     "output_type": "execute_result"
    }
   ],
   "source": [
    "df1=pd.read_csv('/kaggle/input/gun-violence-data/gun-violence-data_01-2013_03-2018.csv')\n",
    "df1.head()"
   ]
  },
  {
   "cell_type": "markdown",
   "metadata": {},
   "source": [
    "### add few more columns to the dataset from the column date of incident for further analysis"
   ]
  },
  {
   "cell_type": "code",
   "execution_count": 3,
   "metadata": {},
   "outputs": [
    {
     "data": {
      "text/html": [
       "<div>\n",
       "<style scoped>\n",
       "    .dataframe tbody tr th:only-of-type {\n",
       "        vertical-align: middle;\n",
       "    }\n",
       "\n",
       "    .dataframe tbody tr th {\n",
       "        vertical-align: top;\n",
       "    }\n",
       "\n",
       "    .dataframe thead th {\n",
       "        text-align: right;\n",
       "    }\n",
       "</style>\n",
       "<table border=\"1\" class=\"dataframe\">\n",
       "  <thead>\n",
       "    <tr style=\"text-align: right;\">\n",
       "      <th></th>\n",
       "      <th>incident_id</th>\n",
       "      <th>date</th>\n",
       "      <th>state</th>\n",
       "      <th>city_or_county</th>\n",
       "      <th>address</th>\n",
       "      <th>n_killed</th>\n",
       "      <th>n_injured</th>\n",
       "      <th>incident_url</th>\n",
       "      <th>source_url</th>\n",
       "      <th>incident_url_fields_missing</th>\n",
       "      <th>...</th>\n",
       "      <th>participant_relationship</th>\n",
       "      <th>participant_status</th>\n",
       "      <th>participant_type</th>\n",
       "      <th>sources</th>\n",
       "      <th>state_house_district</th>\n",
       "      <th>state_senate_district</th>\n",
       "      <th>Year</th>\n",
       "      <th>Month</th>\n",
       "      <th>Day</th>\n",
       "      <th>Day_of_Week</th>\n",
       "    </tr>\n",
       "  </thead>\n",
       "  <tbody>\n",
       "    <tr>\n",
       "      <td>0</td>\n",
       "      <td>461105</td>\n",
       "      <td>2013-01-01</td>\n",
       "      <td>Pennsylvania</td>\n",
       "      <td>Mckeesport</td>\n",
       "      <td>1506 Versailles Avenue and Coursin Street</td>\n",
       "      <td>0</td>\n",
       "      <td>4</td>\n",
       "      <td>http://www.gunviolencearchive.org/incident/461105</td>\n",
       "      <td>http://www.post-gazette.com/local/south/2013/0...</td>\n",
       "      <td>False</td>\n",
       "      <td>...</td>\n",
       "      <td>NaN</td>\n",
       "      <td>0::Arrested||1::Injured||2::Injured||3::Injure...</td>\n",
       "      <td>0::Victim||1::Victim||2::Victim||3::Victim||4:...</td>\n",
       "      <td>http://pittsburgh.cbslocal.com/2013/01/01/4-pe...</td>\n",
       "      <td>NaN</td>\n",
       "      <td>NaN</td>\n",
       "      <td>2013</td>\n",
       "      <td>1</td>\n",
       "      <td>1</td>\n",
       "      <td>Tue</td>\n",
       "    </tr>\n",
       "    <tr>\n",
       "      <td>1</td>\n",
       "      <td>460726</td>\n",
       "      <td>2013-01-01</td>\n",
       "      <td>California</td>\n",
       "      <td>Hawthorne</td>\n",
       "      <td>13500 block of Cerise Avenue</td>\n",
       "      <td>1</td>\n",
       "      <td>3</td>\n",
       "      <td>http://www.gunviolencearchive.org/incident/460726</td>\n",
       "      <td>http://www.dailybulletin.com/article/zz/201301...</td>\n",
       "      <td>False</td>\n",
       "      <td>...</td>\n",
       "      <td>NaN</td>\n",
       "      <td>0::Killed||1::Injured||2::Injured||3::Injured</td>\n",
       "      <td>0::Victim||1::Victim||2::Victim||3::Victim||4:...</td>\n",
       "      <td>http://losangeles.cbslocal.com/2013/01/01/man-...</td>\n",
       "      <td>62.0</td>\n",
       "      <td>35.0</td>\n",
       "      <td>2013</td>\n",
       "      <td>1</td>\n",
       "      <td>1</td>\n",
       "      <td>Tue</td>\n",
       "    </tr>\n",
       "  </tbody>\n",
       "</table>\n",
       "<p>2 rows × 33 columns</p>\n",
       "</div>"
      ],
      "text/plain": [
       "   incident_id       date         state city_or_county  \\\n",
       "0       461105 2013-01-01  Pennsylvania     Mckeesport   \n",
       "1       460726 2013-01-01    California      Hawthorne   \n",
       "\n",
       "                                     address  n_killed  n_injured  \\\n",
       "0  1506 Versailles Avenue and Coursin Street         0          4   \n",
       "1               13500 block of Cerise Avenue         1          3   \n",
       "\n",
       "                                        incident_url  \\\n",
       "0  http://www.gunviolencearchive.org/incident/461105   \n",
       "1  http://www.gunviolencearchive.org/incident/460726   \n",
       "\n",
       "                                          source_url  \\\n",
       "0  http://www.post-gazette.com/local/south/2013/0...   \n",
       "1  http://www.dailybulletin.com/article/zz/201301...   \n",
       "\n",
       "   incident_url_fields_missing  ...  participant_relationship  \\\n",
       "0                        False  ...                       NaN   \n",
       "1                        False  ...                       NaN   \n",
       "\n",
       "                                  participant_status  \\\n",
       "0  0::Arrested||1::Injured||2::Injured||3::Injure...   \n",
       "1      0::Killed||1::Injured||2::Injured||3::Injured   \n",
       "\n",
       "                                    participant_type  \\\n",
       "0  0::Victim||1::Victim||2::Victim||3::Victim||4:...   \n",
       "1  0::Victim||1::Victim||2::Victim||3::Victim||4:...   \n",
       "\n",
       "                                             sources  state_house_district  \\\n",
       "0  http://pittsburgh.cbslocal.com/2013/01/01/4-pe...                   NaN   \n",
       "1  http://losangeles.cbslocal.com/2013/01/01/man-...                  62.0   \n",
       "\n",
       "  state_senate_district  Year  Month Day Day_of_Week  \n",
       "0                   NaN  2013      1   1         Tue  \n",
       "1                  35.0  2013      1   1         Tue  \n",
       "\n",
       "[2 rows x 33 columns]"
      ]
     },
     "execution_count": 3,
     "metadata": {},
     "output_type": "execute_result"
    }
   ],
   "source": [
    "df1[\"date\"]=pd.to_datetime(df1[\"date\"],format=\"%Y-%m-%d\")\n",
    "df1[\"Year\"]=df1[\"date\"].apply(lambda time:time.year)\n",
    "df1[\"Month\"]=df1[\"date\"].apply(lambda time:time.month)\n",
    "df1[\"Day\"]=df1[\"date\"].apply(lambda time:time.day)\n",
    "df1[\"Day_of_Week\"]=df1[\"date\"].apply(lambda time:time.dayofweek)\n",
    "dmap1 = {0:'Mon',1:'Tue',2:'Wed',3:'Thu',4:'Fri',5:'Sat',6:'Sun'}\n",
    "df1[\"Day_of_Week\"]=df1[\"Day_of_Week\"].map(dmap1)\n",
    "df1.head(2)"
   ]
  },
  {
   "cell_type": "code",
   "execution_count": 4,
   "metadata": {
    "_cell_guid": "79c7e3d0-c299-4dcb-8224-4455121ee9b0",
    "_uuid": "d629ff2d2480ee46fbb7e2d37f6b5fab8052498a"
   },
   "outputs": [
    {
     "data": {
      "text/html": [
       "<div>\n",
       "<style scoped>\n",
       "    .dataframe tbody tr th:only-of-type {\n",
       "        vertical-align: middle;\n",
       "    }\n",
       "\n",
       "    .dataframe tbody tr th {\n",
       "        vertical-align: top;\n",
       "    }\n",
       "\n",
       "    .dataframe thead th {\n",
       "        text-align: right;\n",
       "    }\n",
       "</style>\n",
       "<table border=\"1\" class=\"dataframe\">\n",
       "  <thead>\n",
       "    <tr style=\"text-align: right;\">\n",
       "      <th></th>\n",
       "      <th>incident_id</th>\n",
       "      <th>n_killed</th>\n",
       "      <th>n_injured</th>\n",
       "      <th>congressional_district</th>\n",
       "      <th>latitude</th>\n",
       "      <th>longitude</th>\n",
       "      <th>n_guns_involved</th>\n",
       "      <th>state_house_district</th>\n",
       "      <th>state_senate_district</th>\n",
       "      <th>Year</th>\n",
       "      <th>Month</th>\n",
       "      <th>Day</th>\n",
       "    </tr>\n",
       "  </thead>\n",
       "  <tbody>\n",
       "    <tr>\n",
       "      <td>count</td>\n",
       "      <td>2.396770e+05</td>\n",
       "      <td>239677.000000</td>\n",
       "      <td>239677.000000</td>\n",
       "      <td>227733.000000</td>\n",
       "      <td>231754.000000</td>\n",
       "      <td>231754.000000</td>\n",
       "      <td>140226.000000</td>\n",
       "      <td>200905.000000</td>\n",
       "      <td>207342.00000</td>\n",
       "      <td>239677.000000</td>\n",
       "      <td>239677.000000</td>\n",
       "      <td>239677.000000</td>\n",
       "    </tr>\n",
       "    <tr>\n",
       "      <td>mean</td>\n",
       "      <td>5.593343e+05</td>\n",
       "      <td>0.252290</td>\n",
       "      <td>0.494007</td>\n",
       "      <td>8.001265</td>\n",
       "      <td>37.546598</td>\n",
       "      <td>-89.338348</td>\n",
       "      <td>1.372442</td>\n",
       "      <td>55.447132</td>\n",
       "      <td>20.47711</td>\n",
       "      <td>2015.711629</td>\n",
       "      <td>6.351786</td>\n",
       "      <td>15.773787</td>\n",
       "    </tr>\n",
       "    <tr>\n",
       "      <td>std</td>\n",
       "      <td>2.931287e+05</td>\n",
       "      <td>0.521779</td>\n",
       "      <td>0.729952</td>\n",
       "      <td>8.480835</td>\n",
       "      <td>5.130763</td>\n",
       "      <td>14.359546</td>\n",
       "      <td>4.678202</td>\n",
       "      <td>42.048117</td>\n",
       "      <td>14.20456</td>\n",
       "      <td>1.225870</td>\n",
       "      <td>3.447656</td>\n",
       "      <td>8.831929</td>\n",
       "    </tr>\n",
       "    <tr>\n",
       "      <td>min</td>\n",
       "      <td>9.211400e+04</td>\n",
       "      <td>0.000000</td>\n",
       "      <td>0.000000</td>\n",
       "      <td>0.000000</td>\n",
       "      <td>19.111400</td>\n",
       "      <td>-171.429000</td>\n",
       "      <td>1.000000</td>\n",
       "      <td>1.000000</td>\n",
       "      <td>1.00000</td>\n",
       "      <td>2013.000000</td>\n",
       "      <td>1.000000</td>\n",
       "      <td>1.000000</td>\n",
       "    </tr>\n",
       "    <tr>\n",
       "      <td>25%</td>\n",
       "      <td>3.085450e+05</td>\n",
       "      <td>0.000000</td>\n",
       "      <td>0.000000</td>\n",
       "      <td>2.000000</td>\n",
       "      <td>33.903400</td>\n",
       "      <td>-94.158725</td>\n",
       "      <td>1.000000</td>\n",
       "      <td>21.000000</td>\n",
       "      <td>9.00000</td>\n",
       "      <td>2015.000000</td>\n",
       "      <td>3.000000</td>\n",
       "      <td>8.000000</td>\n",
       "    </tr>\n",
       "    <tr>\n",
       "      <td>50%</td>\n",
       "      <td>5.435870e+05</td>\n",
       "      <td>0.000000</td>\n",
       "      <td>0.000000</td>\n",
       "      <td>5.000000</td>\n",
       "      <td>38.570600</td>\n",
       "      <td>-86.249600</td>\n",
       "      <td>1.000000</td>\n",
       "      <td>47.000000</td>\n",
       "      <td>19.00000</td>\n",
       "      <td>2016.000000</td>\n",
       "      <td>6.000000</td>\n",
       "      <td>16.000000</td>\n",
       "    </tr>\n",
       "    <tr>\n",
       "      <td>75%</td>\n",
       "      <td>8.172280e+05</td>\n",
       "      <td>0.000000</td>\n",
       "      <td>1.000000</td>\n",
       "      <td>10.000000</td>\n",
       "      <td>41.437375</td>\n",
       "      <td>-80.048625</td>\n",
       "      <td>1.000000</td>\n",
       "      <td>84.000000</td>\n",
       "      <td>30.00000</td>\n",
       "      <td>2017.000000</td>\n",
       "      <td>9.000000</td>\n",
       "      <td>23.000000</td>\n",
       "    </tr>\n",
       "    <tr>\n",
       "      <td>max</td>\n",
       "      <td>1.083472e+06</td>\n",
       "      <td>50.000000</td>\n",
       "      <td>53.000000</td>\n",
       "      <td>53.000000</td>\n",
       "      <td>71.336800</td>\n",
       "      <td>97.433100</td>\n",
       "      <td>400.000000</td>\n",
       "      <td>901.000000</td>\n",
       "      <td>94.00000</td>\n",
       "      <td>2018.000000</td>\n",
       "      <td>12.000000</td>\n",
       "      <td>31.000000</td>\n",
       "    </tr>\n",
       "  </tbody>\n",
       "</table>\n",
       "</div>"
      ],
      "text/plain": [
       "        incident_id       n_killed      n_injured  congressional_district  \\\n",
       "count  2.396770e+05  239677.000000  239677.000000           227733.000000   \n",
       "mean   5.593343e+05       0.252290       0.494007                8.001265   \n",
       "std    2.931287e+05       0.521779       0.729952                8.480835   \n",
       "min    9.211400e+04       0.000000       0.000000                0.000000   \n",
       "25%    3.085450e+05       0.000000       0.000000                2.000000   \n",
       "50%    5.435870e+05       0.000000       0.000000                5.000000   \n",
       "75%    8.172280e+05       0.000000       1.000000               10.000000   \n",
       "max    1.083472e+06      50.000000      53.000000               53.000000   \n",
       "\n",
       "            latitude      longitude  n_guns_involved  state_house_district  \\\n",
       "count  231754.000000  231754.000000    140226.000000         200905.000000   \n",
       "mean       37.546598     -89.338348         1.372442             55.447132   \n",
       "std         5.130763      14.359546         4.678202             42.048117   \n",
       "min        19.111400    -171.429000         1.000000              1.000000   \n",
       "25%        33.903400     -94.158725         1.000000             21.000000   \n",
       "50%        38.570600     -86.249600         1.000000             47.000000   \n",
       "75%        41.437375     -80.048625         1.000000             84.000000   \n",
       "max        71.336800      97.433100       400.000000            901.000000   \n",
       "\n",
       "       state_senate_district           Year          Month            Day  \n",
       "count           207342.00000  239677.000000  239677.000000  239677.000000  \n",
       "mean                20.47711    2015.711629       6.351786      15.773787  \n",
       "std                 14.20456       1.225870       3.447656       8.831929  \n",
       "min                  1.00000    2013.000000       1.000000       1.000000  \n",
       "25%                  9.00000    2015.000000       3.000000       8.000000  \n",
       "50%                 19.00000    2016.000000       6.000000      16.000000  \n",
       "75%                 30.00000    2017.000000       9.000000      23.000000  \n",
       "max                 94.00000    2018.000000      12.000000      31.000000  "
      ]
     },
     "execution_count": 4,
     "metadata": {},
     "output_type": "execute_result"
    }
   ],
   "source": [
    "df1.describe()"
   ]
  },
  {
   "cell_type": "markdown",
   "metadata": {},
   "source": [
    "## Number of Incidents in Each State\n",
    "\n",
    "Let's see how many incidents each state faced and the national average"
   ]
  },
  {
   "cell_type": "code",
   "execution_count": 5,
   "metadata": {},
   "outputs": [
    {
     "data": {
      "text/plain": [
       "<matplotlib.legend.Legend at 0x7fc4f583e1d0>"
      ]
     },
     "execution_count": 5,
     "metadata": {},
     "output_type": "execute_result"
    },
    {
     "data": {
      "image/png": "[encoded data removed]",
      "text/plain": [
       "<Figure size 1296x720 with 1 Axes>"
      ]
     },
     "metadata": {
      "needs_background": "light"
     },
     "output_type": "display_data"
    }
   ],
   "source": [
    "plot = df1.state.value_counts().plot(kind='bar', title=\"Number of Incidents in Each State\", \\\n",
    "                             figsize=(18,10), colormap='rainbow')\n",
    "plot.set_xlabel('State')\n",
    "plot.set_ylabel('Number of incidents')\n",
    "mean_line = plot.axhline(df1.state.value_counts().mean(), color='r',\\\n",
    "                         label='Average Number of incidents')\n",
    "plt.legend()"
   ]
  },
  {
   "cell_type": "markdown",
   "metadata": {},
   "source": [
    "We see Illinois, California, Florida and Texas are the worst affected states. We also see the national mean comes around 5000 (which is a pretty high number)"
   ]
  },
  {
   "cell_type": "markdown",
   "metadata": {},
   "source": [
    "## Loss of lives\n",
    "\n",
    "Let's see which states have lost most lives due to gun violence."
   ]
  },
  {
   "cell_type": "code",
   "execution_count": 6,
   "metadata": {},
   "outputs": [
    {
     "data": {
      "image/png": "[encoded data removed]",
      "text/plain": [
       "<Figure size 1296x720 with 1 Axes>"
      ]
     },
     "metadata": {
      "needs_background": "light"
     },
     "output_type": "display_data"
    }
   ],
   "source": [
    "df3=df1.groupby('state').agg({'n_killed':['sum']}).plot.bar(figsize=(18,10), colormap='summer')"
   ]
  },
  {
   "cell_type": "markdown",
   "metadata": {},
   "source": [
    "California, Texas, Florida has suffered the most followed closely by Illinois. Not surprising since these states had the most number of incidents as we found out from the previous visualization."
   ]
  },
  {
   "cell_type": "markdown",
   "metadata": {},
   "source": [
    "## Most dangerous days"
   ]
  },
  {
   "cell_type": "code",
   "execution_count": 7,
   "metadata": {},
   "outputs": [
    {
     "data": {
      "text/plain": [
       "<matplotlib.axes._subplots.AxesSubplot at 0x7fc4f5628518>"
      ]
     },
     "execution_count": 7,
     "metadata": {},
     "output_type": "execute_result"
    },
    {
     "data": {
      "image/png": "[encoded data removed]",
      "text/plain": [
       "<Figure size 720x720 with 2 Axes>"
      ]
     },
     "metadata": {},
     "output_type": "display_data"
    }
   ],
   "source": [
    "plt.style.use('ggplot')\n",
    "list8=df1.groupby([\"Month\",\"Day_of_Week\"]).count()[\"incident_id\"].unstack()\n",
    "plt.figure(figsize=(10,10))\n",
    "sns.heatmap(list8,cmap='viridis')"
   ]
  },
  {
   "cell_type": "markdown",
   "metadata": {},
   "source": [
    "#### As we clearly see from the heatmap, most incidents seem to occur on Sunday. Also January seems to be the most vicious month followd by March also we see a huge rise of incidents in Sundays of July and August"
   ]
  },
  {
   "cell_type": "code",
   "execution_count": 8,
   "metadata": {},
   "outputs": [
    {
     "data": {
      "text/plain": [
       "Index(['incident_id', 'date', 'state', 'city_or_county', 'address', 'n_killed',\n",
       "       'n_injured', 'incident_url', 'source_url',\n",
       "       'incident_url_fields_missing', 'congressional_district', 'gun_stolen',\n",
       "       'gun_type', 'incident_characteristics', 'latitude',\n",
       "       'location_description', 'longitude', 'n_guns_involved', 'notes',\n",
       "       'participant_age', 'participant_age_group', 'participant_gender',\n",
       "       'participant_name', 'participant_relationship', 'participant_status',\n",
       "       'participant_type', 'sources', 'state_house_district',\n",
       "       'state_senate_district', 'Year', 'Month', 'Day', 'Day_of_Week'],\n",
       "      dtype='object')"
      ]
     },
     "execution_count": 8,
     "metadata": {},
     "output_type": "execute_result"
    }
   ],
   "source": [
    "df1.columns"
   ]
  },
  {
   "cell_type": "markdown",
   "metadata": {},
   "source": [
    "# AGGLOMERATIVE CLUSTERING (AGNES)\n",
    "We choose the number of victims and number of guns used in the shootout as the attributes.\n",
    "\n",
    "Sp, adding a column of number of victims as n_killed+n_injured "
   ]
  },
  {
   "cell_type": "code",
   "execution_count": 9,
   "metadata": {},
   "outputs": [
    {
     "data": {
      "text/html": [
       "<div>\n",
       "<style scoped>\n",
       "    .dataframe tbody tr th:only-of-type {\n",
       "        vertical-align: middle;\n",
       "    }\n",
       "\n",
       "    .dataframe tbody tr th {\n",
       "        vertical-align: top;\n",
       "    }\n",
       "\n",
       "    .dataframe thead th {\n",
       "        text-align: right;\n",
       "    }\n",
       "</style>\n",
       "<table border=\"1\" class=\"dataframe\">\n",
       "  <thead>\n",
       "    <tr style=\"text-align: right;\">\n",
       "      <th></th>\n",
       "      <th>incident_id</th>\n",
       "      <th>date</th>\n",
       "      <th>state</th>\n",
       "      <th>city_or_county</th>\n",
       "      <th>address</th>\n",
       "      <th>n_killed</th>\n",
       "      <th>n_injured</th>\n",
       "      <th>incident_url</th>\n",
       "      <th>source_url</th>\n",
       "      <th>incident_url_fields_missing</th>\n",
       "      <th>...</th>\n",
       "      <th>participant_status</th>\n",
       "      <th>participant_type</th>\n",
       "      <th>sources</th>\n",
       "      <th>state_house_district</th>\n",
       "      <th>state_senate_district</th>\n",
       "      <th>Year</th>\n",
       "      <th>Month</th>\n",
       "      <th>Day</th>\n",
       "      <th>Day_of_Week</th>\n",
       "      <th>n_victims</th>\n",
       "    </tr>\n",
       "  </thead>\n",
       "  <tbody>\n",
       "    <tr>\n",
       "      <td>0</td>\n",
       "      <td>461105</td>\n",
       "      <td>2013-01-01</td>\n",
       "      <td>Pennsylvania</td>\n",
       "      <td>Mckeesport</td>\n",
       "      <td>1506 Versailles Avenue and Coursin Street</td>\n",
       "      <td>0</td>\n",
       "      <td>4</td>\n",
       "      <td>http://www.gunviolencearchive.org/incident/461105</td>\n",
       "      <td>http://www.post-gazette.com/local/south/2013/0...</td>\n",
       "      <td>False</td>\n",
       "      <td>...</td>\n",
       "      <td>0::Arrested||1::Injured||2::Injured||3::Injure...</td>\n",
       "      <td>0::Victim||1::Victim||2::Victim||3::Victim||4:...</td>\n",
       "      <td>http://pittsburgh.cbslocal.com/2013/01/01/4-pe...</td>\n",
       "      <td>NaN</td>\n",
       "      <td>NaN</td>\n",
       "      <td>2013</td>\n",
       "      <td>1</td>\n",
       "      <td>1</td>\n",
       "      <td>Tue</td>\n",
       "      <td>4</td>\n",
       "    </tr>\n",
       "    <tr>\n",
       "      <td>1</td>\n",
       "      <td>460726</td>\n",
       "      <td>2013-01-01</td>\n",
       "      <td>California</td>\n",
       "      <td>Hawthorne</td>\n",
       "      <td>13500 block of Cerise Avenue</td>\n",
       "      <td>1</td>\n",
       "      <td>3</td>\n",
       "      <td>http://www.gunviolencearchive.org/incident/460726</td>\n",
       "      <td>http://www.dailybulletin.com/article/zz/201301...</td>\n",
       "      <td>False</td>\n",
       "      <td>...</td>\n",
       "      <td>0::Killed||1::Injured||2::Injured||3::Injured</td>\n",
       "      <td>0::Victim||1::Victim||2::Victim||3::Victim||4:...</td>\n",
       "      <td>http://losangeles.cbslocal.com/2013/01/01/man-...</td>\n",
       "      <td>62.0</td>\n",
       "      <td>35.0</td>\n",
       "      <td>2013</td>\n",
       "      <td>1</td>\n",
       "      <td>1</td>\n",
       "      <td>Tue</td>\n",
       "      <td>4</td>\n",
       "    </tr>\n",
       "  </tbody>\n",
       "</table>\n",
       "<p>2 rows × 34 columns</p>\n",
       "</div>"
      ],
      "text/plain": [
       "   incident_id       date         state city_or_county  \\\n",
       "0       461105 2013-01-01  Pennsylvania     Mckeesport   \n",
       "1       460726 2013-01-01    California      Hawthorne   \n",
       "\n",
       "                                     address  n_killed  n_injured  \\\n",
       "0  1506 Versailles Avenue and Coursin Street         0          4   \n",
       "1               13500 block of Cerise Avenue         1          3   \n",
       "\n",
       "                                        incident_url  \\\n",
       "0  http://www.gunviolencearchive.org/incident/461105   \n",
       "1  http://www.gunviolencearchive.org/incident/460726   \n",
       "\n",
       "                                          source_url  \\\n",
       "0  http://www.post-gazette.com/local/south/2013/0...   \n",
       "1  http://www.dailybulletin.com/article/zz/201301...   \n",
       "\n",
       "   incident_url_fields_missing  ...  \\\n",
       "0                        False  ...   \n",
       "1                        False  ...   \n",
       "\n",
       "                                  participant_status  \\\n",
       "0  0::Arrested||1::Injured||2::Injured||3::Injure...   \n",
       "1      0::Killed||1::Injured||2::Injured||3::Injured   \n",
       "\n",
       "                                    participant_type  \\\n",
       "0  0::Victim||1::Victim||2::Victim||3::Victim||4:...   \n",
       "1  0::Victim||1::Victim||2::Victim||3::Victim||4:...   \n",
       "\n",
       "                                             sources state_house_district  \\\n",
       "0  http://pittsburgh.cbslocal.com/2013/01/01/4-pe...                  NaN   \n",
       "1  http://losangeles.cbslocal.com/2013/01/01/man-...                 62.0   \n",
       "\n",
       "   state_senate_district  Year  Month  Day Day_of_Week n_victims  \n",
       "0                    NaN  2013      1    1         Tue         4  \n",
       "1                   35.0  2013      1    1         Tue         4  \n",
       "\n",
       "[2 rows x 34 columns]"
      ]
     },
     "execution_count": 9,
     "metadata": {},
     "output_type": "execute_result"
    }
   ],
   "source": [
    "df1['n_victims']=df1['n_killed']+df1['n_injured']\n",
    "df1.head(2)"
   ]
  },
  {
   "cell_type": "markdown",
   "metadata": {},
   "source": [
    "### Interpolation for the \"number of guns involved\" attribute as it contains NaN values"
   ]
  },
  {
   "cell_type": "code",
   "execution_count": 10,
   "metadata": {},
   "outputs": [
    {
     "name": "stdout",
     "output_type": "stream",
     "text": [
      "(239677, 34)\n"
     ]
    }
   ],
   "source": [
    "df_interpol=df1.sort_values(by=['city_or_county'])\n",
    "print(df_interpol.shape)"
   ]
  },
  {
   "cell_type": "code",
   "execution_count": 11,
   "metadata": {},
   "outputs": [
    {
     "name": "stderr",
     "output_type": "stream",
     "text": [
      "/opt/conda/lib/python3.6/site-packages/ipykernel_launcher.py:3: SettingWithCopyWarning: \n",
      "A value is trying to be set on a copy of a slice from a DataFrame\n",
      "\n",
      "See the caveats in the documentation: http://pandas.pydata.org/pandas-docs/stable/user_guide/indexing.html#returning-a-view-versus-a-copy\n",
      "  This is separate from the ipykernel package so we can avoid doing imports until\n",
      "/opt/conda/lib/python3.6/site-packages/ipykernel_launcher.py:5: SettingWithCopyWarning: \n",
      "A value is trying to be set on a copy of a slice from a DataFrame\n",
      "\n",
      "See the caveats in the documentation: http://pandas.pydata.org/pandas-docs/stable/user_guide/indexing.html#returning-a-view-versus-a-copy\n",
      "  \"\"\"\n"
     ]
    },
    {
     "data": {
      "text/plain": [
       "0"
      ]
     },
     "execution_count": 11,
     "metadata": {},
     "output_type": "execute_result"
    }
   ],
   "source": [
    "df_interpol['n_guns_involved'].fillna(0, inplace=True)\n",
    "for i in range(1, df_interpol.shape[0]-1):\n",
    "    df_interpol['n_guns_involved'][i]=int(df_interpol['n_guns_involved'][i])\n",
    "    if(df_interpol['n_guns_involved'][i]==0):\n",
    "        df_interpol['n_guns_involved'][i]=int(df_interpol['n_guns_involved'][i-1]+ df_interpol['n_guns_involved'][i+1])/2\n",
    "df_interpol['n_guns_involved'].isna().sum()"
   ]
  },
  {
   "cell_type": "code",
   "execution_count": 12,
   "metadata": {},
   "outputs": [
    {
     "name": "stdout",
     "output_type": "stream",
     "text": [
      "1.0      137527\n",
      "0.0       60459\n",
      "0.5       24597\n",
      "2.0        8212\n",
      "3.0        2222\n",
      "          ...  \n",
      "99.0          1\n",
      "183.0         1\n",
      "107.0         1\n",
      "127.0         1\n",
      "112.5         1\n",
      "Name: n_guns_involved, Length: 179, dtype: int64\n"
     ]
    },
    {
     "data": {
      "text/plain": [
       "1      116228\n",
       "0       97287\n",
       "2       19794\n",
       "3        4266\n",
       "4        1340\n",
       "5         433\n",
       "6         136\n",
       "7          88\n",
       "8          40\n",
       "9          20\n",
       "12         10\n",
       "10          8\n",
       "11          3\n",
       "13          3\n",
       "15          3\n",
       "18          3\n",
       "14          2\n",
       "17          2\n",
       "19          2\n",
       "47          1\n",
       "16          1\n",
       "20          1\n",
       "21          1\n",
       "25          1\n",
       "27          1\n",
       "34          1\n",
       "35          1\n",
       "103         1\n",
       "Name: n_victims, dtype: int64"
      ]
     },
     "execution_count": 12,
     "metadata": {},
     "output_type": "execute_result"
    }
   ],
   "source": [
    "print(df_interpol['n_guns_involved'].value_counts())\n",
    "df_interpol['n_victims'].value_counts()"
   ]
  },
  {
   "cell_type": "markdown",
   "metadata": {},
   "source": [
    "### Data selection for clustering:\n",
    "\n",
    "The data from the dataframe is selected such that the number of victims in that particular shootout event>3 and the number of guns involved are greater than 0"
   ]
  },
  {
   "cell_type": "code",
   "execution_count": 13,
   "metadata": {},
   "outputs": [
    {
     "data": {
      "text/html": [
       "<div>\n",
       "<style scoped>\n",
       "    .dataframe tbody tr th:only-of-type {\n",
       "        vertical-align: middle;\n",
       "    }\n",
       "\n",
       "    .dataframe tbody tr th {\n",
       "        vertical-align: top;\n",
       "    }\n",
       "\n",
       "    .dataframe thead th {\n",
       "        text-align: right;\n",
       "    }\n",
       "</style>\n",
       "<table border=\"1\" class=\"dataframe\">\n",
       "  <thead>\n",
       "    <tr style=\"text-align: right;\">\n",
       "      <th></th>\n",
       "      <th>guns</th>\n",
       "      <th>victims</th>\n",
       "    </tr>\n",
       "  </thead>\n",
       "  <tbody>\n",
       "    <tr>\n",
       "      <td>0</td>\n",
       "      <td>1.0</td>\n",
       "      <td>4</td>\n",
       "    </tr>\n",
       "    <tr>\n",
       "      <td>1</td>\n",
       "      <td>2.0</td>\n",
       "      <td>4</td>\n",
       "    </tr>\n",
       "    <tr>\n",
       "      <td>2</td>\n",
       "      <td>2.0</td>\n",
       "      <td>4</td>\n",
       "    </tr>\n",
       "    <tr>\n",
       "      <td>3</td>\n",
       "      <td>2.0</td>\n",
       "      <td>4</td>\n",
       "    </tr>\n",
       "    <tr>\n",
       "      <td>4</td>\n",
       "      <td>2.0</td>\n",
       "      <td>4</td>\n",
       "    </tr>\n",
       "  </tbody>\n",
       "</table>\n",
       "</div>"
      ],
      "text/plain": [
       "   guns  victims\n",
       "0   1.0        4\n",
       "1   2.0        4\n",
       "2   2.0        4\n",
       "3   2.0        4\n",
       "4   2.0        4"
      ]
     },
     "execution_count": 13,
     "metadata": {},
     "output_type": "execute_result"
    }
   ],
   "source": [
    "guns=[]\n",
    "victims=[]\n",
    "for i in range(1, df_interpol.shape[0]-1):\n",
    "    if(df_interpol['n_guns_involved'][i]>0 and df_interpol['n_victims'][i]>3):\n",
    "        guns.append(df_interpol['n_guns_involved'][i])\n",
    "        victims.append(df_interpol['n_victims'][i])\n",
    "df_cls=pd.DataFrame()\n",
    "df_cls['guns']=guns\n",
    "df_cls['victims']=victims\n",
    "df_cls.head()"
   ]
  },
  {
   "cell_type": "markdown",
   "metadata": {},
   "source": [
    "## Finding outliers using Gaussian Distribution method\n",
    "\n",
    "In statistics, If a data distribution is approximately normal then about 68% of the data values lie within one standard deviation of the mean and about 95% are within two standard deviations, and about 99.7% lie within three standard deviations\n",
    "\n",
    "<img src=\"https://miro.medium.com/max/1572/1*rV7rq7F_uB5gwjzzGJ9VqA.png\" alt=\"Drawing\" style=\"width: 600px\">\n",
    "\n",
    "Therefore, if you have any data point that is more than 3 times the standard deviation, then those points are very likely to be anomalous or outliers."
   ]
  },
  {
   "cell_type": "code",
   "execution_count": 14,
   "metadata": {},
   "outputs": [],
   "source": [
    "def find_anomalies(random_data):\n",
    "    anomalies = []\n",
    "    random_data_std = np.std(random_data)\n",
    "    random_data_mean = np.mean(random_data)\n",
    "    anomaly_cut_off = random_data_std*3.5\n",
    "    lower_limit = random_data_mean - anomaly_cut_off \n",
    "    upper_limit = random_data_mean + anomaly_cut_off\n",
    "    for i in range(len(random_data)):\n",
    "        if random_data[i] > upper_limit or random_data[i] < lower_limit:\n",
    "            anomalies.append(i)\n",
    "    return anomalies\n",
    "\n",
    "def set_labels(df, data_points):    \n",
    "    for i in range(len(df)):\n",
    "        df.at[i, 2] = 0\n",
    "    for i in data_points:\n",
    "        df.at[i, 2] = 1\n",
    "    print(\"Labels set to 1 for:\", data_points)\n"
   ]
  },
  {
   "cell_type": "markdown",
   "metadata": {},
   "source": [
    "#### Another column is created to indicate if the item is an outlier. 1 is set for the outlier and 0 for the rest"
   ]
  },
  {
   "cell_type": "markdown",
   "metadata": {},
   "source": [
    "1. Plot the standard deviations of the data to indicate outliers and non outliers"
   ]
  },
  {
   "cell_type": "code",
   "execution_count": 15,
   "metadata": {},
   "outputs": [
    {
     "name": "stdout",
     "output_type": "stream",
     "text": [
      "Labels set to 1 for: [  56  168  217  580  615  622  681  784  851 1184 1308 1469 1482 1563\n",
      "  329  462  542  580  639  682  723  795  797  980 1119]\n",
      "Size: 25\n"
     ]
    },
    {
     "data": {
      "image/png": "[encoded data removed]",
      "text/plain": [
       "<Figure size 432x360 with 1 Axes>"
      ]
     },
     "metadata": {},
     "output_type": "display_data"
    }
   ],
   "source": [
    "anomalies_x = find_anomalies(df_cls['guns'])\n",
    "anomalies_y = find_anomalies(df_cls['victims'])\n",
    "data_points = np.array(anomalies_y + anomalies_x)\n",
    "set_labels(df_cls,data_points)\n",
    "\n",
    "plt.figure(figsize=(6,5))\n",
    "sns.scatterplot(x=df_cls['guns'], y=df_cls['victims'],hue=df_cls[2],s=100)\n",
    "plt.title(\"Standard Deviation\", size = 20)\n",
    "print(\"Size:\",len(data_points))\n",
    "\n",
    "df_cluster = df_cls[df_cls[2] == 0]"
   ]
  },
  {
   "cell_type": "code",
   "execution_count": 16,
   "metadata": {},
   "outputs": [
    {
     "data": {
      "text/plain": [
       "(1599, 3)"
      ]
     },
     "execution_count": 16,
     "metadata": {},
     "output_type": "execute_result"
    }
   ],
   "source": [
    "df_cls.shape"
   ]
  },
  {
   "cell_type": "code",
   "execution_count": 17,
   "metadata": {},
   "outputs": [
    {
     "data": {
      "text/plain": [
       "(1575, 3)"
      ]
     },
     "execution_count": 17,
     "metadata": {},
     "output_type": "execute_result"
    }
   ],
   "source": [
    "df_cluster.shape"
   ]
  },
  {
   "cell_type": "markdown",
   "metadata": {},
   "source": [
    "Plot the clusterable data points"
   ]
  },
  {
   "cell_type": "code",
   "execution_count": 19,
   "metadata": {},
   "outputs": [
    {
     "data": {
      "image/png": "[encoded data removed]",
      "text/plain": [
       "<Figure size 432x288 with 1 Axes>"
      ]
     },
     "metadata": {},
     "output_type": "display_data"
    }
   ],
   "source": [
    "guns_inv = np.array(df_cluster['guns']) \n",
    "victims_inv = np.array(df_cluster['victims']) \n",
    "X = np.array(list(zip(guns_inv, victims_inv))).reshape(len(guns_inv), 2) \n",
    "  \n",
    "#Visualizing the data \n",
    "plt.plot() \n",
    "plt.xlim([0, 9]) \n",
    "plt.ylim([0, 20]) \n",
    "plt.title('guns vs victims') \n",
    "plt.scatter(guns_inv, victims_inv) \n",
    "plt.show() "
   ]
  },
  {
   "cell_type": "markdown",
   "metadata": {},
   "source": [
    "So, out of 1598 points, 25 points were determined to be as outliers with the gaussian method. Hence, we go forward by taking the remaining 1573 points"
   ]
  },
  {
   "cell_type": "markdown",
   "metadata": {},
   "source": [
    "### Elbow Method to find the optimum K value for clustering\n",
    "The Elbow method is a heuristic method of interpretation and validation of consistency within cluster analysis designed to help finding the appropriate number of clusters in a dataset."
   ]
  },
  {
   "cell_type": "code",
   "execution_count": 20,
   "metadata": {},
   "outputs": [
    {
     "name": "stdout",
     "output_type": "stream",
     "text": [
      "1 : 1.0957733247458366\n",
      "2 : 0.7913758459235775\n",
      "3 : 0.6531534161431269\n",
      "4 : 0.5663143163719077\n",
      "5 : 0.38719144997906674\n",
      "6 : 0.30556656746985167\n",
      "7 : 0.30218607527692093\n",
      "8 : 0.2717499841788206\n",
      "9 : 0.20474820492166373\n",
      "10 : 0.17546679834833975\n",
      "11 : 0.1628601835144101\n",
      "12 : 0.15077596907111118\n",
      "13 : 0.14287197714598268\n",
      "14 : 0.12154294287917164\n",
      "15 : 0.09334128673868282\n",
      "16 : 0.11642958407025585\n",
      "17 : 0.07772461615300869\n",
      "18 : 0.07884441812693967\n",
      "19 : 0.06886098432527529\n"
     ]
    }
   ],
   "source": [
    "distortions = [] \n",
    "inertias = [] \n",
    "mapping1 = {} \n",
    "mapping2 = {} \n",
    "K = range(1,20) \n",
    "  \n",
    "for k in K: \n",
    "    kmeanModel=KMeans(n_clusters=k).fit(X) \n",
    "    kmeanModel.fit(X)    \n",
    "    distortions.append(sum(np.min(cdist(X, kmeanModel.cluster_centers_,'euclidean'),axis=1)) / X.shape[0]) \n",
    "    inertias.append(kmeanModel.inertia_)\n",
    "    mapping1[k] = sum(np.min(cdist(X, kmeanModel.cluster_centers_,'euclidean'),axis=1)) / X.shape[0] \n",
    "    mapping2[k] = kmeanModel.inertia_\n",
    "    \n",
    "for key,val in mapping1.items(): \n",
    "    print(str(key)+' : '+str(val))"
   ]
  },
  {
   "cell_type": "code",
   "execution_count": 21,
   "metadata": {},
   "outputs": [
    {
     "data": {
      "image/png": "[encoded data removed]",
      "text/plain": [
       "<Figure size 432x288 with 1 Axes>"
      ]
     },
     "metadata": {},
     "output_type": "display_data"
    }
   ],
   "source": [
    "plt.plot(K, distortions, 'bx-') \n",
    "plt.xlabel('Values of K') \n",
    "plt.ylabel('Distortion') \n",
    "plt.title('The Elbow Method using Distortion') \n",
    "plt.show()"
   ]
  },
  {
   "cell_type": "markdown",
   "metadata": {},
   "source": [
    "#### So, we can see that the value k=5 is the best point for the elbow method with mapping values"
   ]
  },
  {
   "cell_type": "code",
   "execution_count": 22,
   "metadata": {},
   "outputs": [
    {
     "name": "stdout",
     "output_type": "stream",
     "text": [
      "1 : 3859.5469841269833\n",
      "2 : 1722.9308280755554\n",
      "3 : 1137.5893863961987\n",
      "4 : 798.4324864536397\n",
      "5 : 518.3625521032804\n",
      "6 : 431.4792151177687\n",
      "7 : 329.8053012676719\n",
      "8 : 291.1845985326387\n",
      "9 : 241.76567819797472\n",
      "10 : 201.8227034498771\n",
      "11 : 169.16526100204342\n",
      "12 : 148.90543194221436\n",
      "13 : 130.49951953501508\n",
      "14 : 111.36862011393089\n",
      "15 : 100.84850549979724\n",
      "16 : 89.73059794549494\n",
      "17 : 78.0748993019284\n",
      "18 : 67.26774777466863\n",
      "19 : 58.43509741343106\n"
     ]
    },
    {
     "data": {
      "image/png": "[encoded data removed]",
      "text/plain": [
       "<Figure size 432x288 with 1 Axes>"
      ]
     },
     "metadata": {},
     "output_type": "display_data"
    }
   ],
   "source": [
    "for key,val in mapping2.items(): \n",
    "    print(str(key)+' : '+str(val))\n",
    "plt.plot(K, inertias, 'bx-') \n",
    "plt.xlabel('Values of K') \n",
    "plt.ylabel('Inertia') \n",
    "plt.title('The Elbow Method using Inertia') \n",
    "plt.show()"
   ]
  },
  {
   "cell_type": "markdown",
   "metadata": {},
   "source": [
    "#### trying with inertia values, we can see that the value k=5 holds good here too. Hence, we move forward with k=5 for clustering[](http://)"
   ]
  },
  {
   "cell_type": "markdown",
   "metadata": {},
   "source": [
    "### CLUSTERING AND PLOTTING"
   ]
  },
  {
   "cell_type": "code",
   "execution_count": 23,
   "metadata": {},
   "outputs": [],
   "source": [
    "cluster = AgglomerativeClustering(n_clusters=5, affinity='euclidean', linkage='ward')\n",
    "labels=cluster.fit_predict(df_cluster.iloc[:, 0:2])"
   ]
  },
  {
   "cell_type": "code",
   "execution_count": 24,
   "metadata": {},
   "outputs": [
    {
     "data": {
      "text/plain": [
       "<matplotlib.collections.PathCollection at 0x7fc4f4a19fd0>"
      ]
     },
     "execution_count": 24,
     "metadata": {},
     "output_type": "execute_result"
    },
    {
     "data": {
      "image/png": "[encoded data removed]",
      "text/plain": [
       "<Figure size 720x504 with 1 Axes>"
      ]
     },
     "metadata": {},
     "output_type": "display_data"
    }
   ],
   "source": [
    "plt.figure(figsize=(10, 7))\n",
    "plt.scatter(df_cluster['guns'], df_cluster['victims'], c=cluster.labels_, cmap='rainbow')"
   ]
  },
  {
   "cell_type": "code",
   "execution_count": 25,
   "metadata": {},
   "outputs": [
    {
     "data": {
      "image/png": "[encoded data removed]",
      "text/plain": [
       "<Figure size 720x504 with 1 Axes>"
      ]
     },
     "metadata": {},
     "output_type": "display_data"
    }
   ],
   "source": [
    "\n",
    "plt.figure(figsize=(10, 7))\n",
    "plt.title(\"Dendogram\")\n",
    "dend = shc.dendrogram(shc.linkage(df_cluster.iloc[:, 0:2], method='ward'))"
   ]
  },
  {
   "cell_type": "markdown",
   "metadata": {},
   "source": [
    "## Inference: \n",
    "The algorithm chose the centroids and the clusters are formed.\n",
    "Dendrogram is shown as above. the cut is made when the top 5 clusters are made and hence is considered as the optimum value by the elbow method can be verified here. \n",
    "Here, we can inference the outcome as:\n",
    "\n",
    "There are the more victims where less guns were used. \n",
    "The more the guns, lesser the victims. This may be attributed to the police getting alerted because of the more gunshots fired. But, if only one gun was used, then the police might not have gotten alerted to stop the cataclysm sooner. "
   ]
  }
 ],
 "metadata": {
  "kernelspec": {
   "display_name": "Python 3",
   "language": "python",
   "name": "python3"
  },
  "language_info": {
   "codemirror_mode": {
    "name": "ipython",
    "version": 3
   },
   "file_extension": ".py",
   "mimetype": "text/x-python",
   "name": "python",
   "nbconvert_exporter": "python",
   "pygments_lexer": "ipython3",
   "version": "3.7.3"
  }
 },
 "nbformat": 4,
 "nbformat_minor": 1
}
